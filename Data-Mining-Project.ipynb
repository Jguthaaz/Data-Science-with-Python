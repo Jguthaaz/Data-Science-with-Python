{
 "cells": [
  {
   "cell_type": "markdown",
   "metadata": {},
   "source": [
    "## CSCE 689 - Data Mining"
   ]
  },
  {
   "cell_type": "markdown",
   "metadata": {},
   "source": [
    "### SubTask 1 - Crawling and Parsing  to get relevant message corpus for Mining and Classification"
   ]
  },
  {
   "cell_type": "code",
   "execution_count": 1,
   "metadata": {
    "collapsed": false
   },
   "outputs": [],
   "source": [
    "from bs4 import BeautifulSoup\n",
    "import requests\n",
    "import re"
   ]
  },
  {
   "cell_type": "code",
   "execution_count": 2,
   "metadata": {
    "collapsed": true
   },
   "outputs": [],
   "source": [
    "import pandas as pd\n",
    "from pandas import Series,DataFrame"
   ]
  },
  {
   "cell_type": "code",
   "execution_count": 3,
   "metadata": {
    "collapsed": true
   },
   "outputs": [],
   "source": [
    "url = 'http://www.snopes.com/rumors/atonement.asp'"
   ]
  },
  {
   "cell_type": "code",
   "execution_count": 4,
   "metadata": {
    "collapsed": false
   },
   "outputs": [],
   "source": [
    "# Request content from web page\n",
    "result = requests.get(url)\n",
    "c = result.content\n",
    "\n",
    "# Set as Beautiful Soup Object\n",
    "soup = BeautifulSoup(c, \"lxml\")\n",
    "#for script in soup.find_all('script'):\n",
    "    #script.extract()"
   ]
  },
  {
   "cell_type": "code",
   "execution_count": 5,
   "metadata": {
    "collapsed": false
   },
   "outputs": [],
   "source": [
    "# Go to the section of interest\n",
    "div_main = soup.find(\"div\",{'id':'main-content'})\n",
    "\n",
    "# Find the table in the main div\n",
    "# table = div_main.find('table')\n",
    "\n",
    "# Find the div in the table\n",
    "divs = div_main.find_all('div')"
   ]
  },
  {
   "cell_type": "code",
   "execution_count": 6,
   "metadata": {
    "collapsed": false
   },
   "outputs": [],
   "source": [
    "# get rid of javascript if present inside a table tag or any other tag\n",
    "divs[0].script.clear()"
   ]
  },
  {
   "cell_type": "code",
   "execution_count": 7,
   "metadata": {
    "collapsed": false
   },
   "outputs": [],
   "source": [
    "# for string in divs[0].stripped_strings:\n",
    "    # print(repr(string))"
   ]
  },
  {
   "cell_type": "code",
   "execution_count": 8,
   "metadata": {
    "collapsed": false
   },
   "outputs": [
    {
     "data": {
      "text/plain": [
       "u'Claim: A group of Muslim women clutching briefcases and text messaging during films were spotted making a terrorist attack \"dry run\" in a Raleigh, North Carolina theater. Status: False. Example: [Collected on the Internet, 2008] Dear Friends, I just came from dinner with a friend who personally experienced a very disturbing situation at North Hills Movie Theater here in Raleigh, NC this past Friday at the 4:30 matinee showing of \"Atonement\".  I have known this woman and her husband for almost 30 years this is a true story. She and her husband were sitting down front and after the previews, just before the movie started she realized that someone slipped in two seats over from them with an empty seat in between them.  She glanced over to look at the person who had just slipped in beside her.  I won\\'t give you the description until later...as she glanced over for a second time, this Person pulled up a brief case, placed it in their lap,  and was holding onto it for dear life. This person never glanced over at my friend but kept their Eyes straight ahead, until they received the \"buzz\" of text message over Their cell phone. This person glanced a at the text message but didn\\'t respond to the message.  This person then continued to receive text messages every few minutes.  How many people do you know that bring their brief cases to the movie, much less placing them in their laps during the movie and Clutching them?  And how many times do you see people get text messages in a movie that don\\'t respond to them?  At least to say..\"I\\'m at a movie, leave me alone\". Oh by the way...this person that had the brief case was dressed as a Muslim woman.  Black cloth covered them from head to toe with only the eyes visible.  She could not be sure that this was a woman because only the eyes were showing. After about 1 hour of squirming in their seats my friend and her husband left the movie and tried to find a manager. Well, most of the people working there were about 15-16 years old and a 90 year old ticket taker and there was not a manager there at that time. None of them saw the urgency in the situation.  She told them about the brief case, text messaging, and how this person was dressed.  One of the workers said...Oh I saw THEM...there was a whole group of them.  They all went to different movies. DUH! Are any of you thinking what I am thinking?  They also asked about \"security\"....security doesn\\'t come in until 7pm - 9pm. Do you think maybe this was a test?  The 911 bombers tested their plan 14 times before it was actually acted upon.  Or was it going to be the real thing that for some reason was stopped?  We may never know but I have been sufficiently thrown into high alert.  Do what you want with this information, but I for one will not be racing to the movie theater anytime soon. Think about this...no screening, no security, visibility greatly reduced (dark) and apparently most people are totally oblivious as to \"suspicious\" activity at movie theaters! Sorry to be the bearer of disturbing news, but I want to make the people I care about be more aware of their surroundings, perhaps we all need to Have a phone number for a Homeland Security contact in our cell phones! Origins: Because concern about the potential for additional terrorist attacks on U.S. soil lives on, tales like the one above fall upon believing ears. Acts that previously would not have drawn much comment or notice are now regarded as potentially life-threatening when carried out by folks of Middle Eastern appearance. The e-mailed account about suspicious activity at a daytime showing at the North Hills Movie Theater in Raleigh, North Carolina, of the film Atonement first reached the snopes.com inbox on 25 January 2008, which would seem to date the incident (described in the e-mail as having happened \"this past Friday\") to 18 January 2008. The message (which is clearly phrased as a second-hand account of an occurrence at which the writer was not present) has been looked into by the Raleigh Police Department. Although a woman dressed in Middle Eastern garb was present at the showing and was texting during the film, there was no coordinated movie-going group of such women in all the theaters. Also, the lone woman doing the texting was not holding a briefcase on her lap (it was her purse), nor was she found to have been engaged in any activity that posed a security threat: Raleigh Police Department employees were among those who received a version of the message on their personal e-mail accounts, and the department investigated the supposed incident. Police spokesman Jim Sughrue said investigators concluded the incident did not happen. \"It was determined in the end that there had been a single movie-goer, a female in Middle Eastern attire,\" Sughrue said. \"We\\'re not faulting anybody for anything that happened. We ran it down, and we were more than happy to run it down and report that there was not a security threat.\" People do use cell phones during theater screenings of movies, and some do send and receive text messages throughout films (perhaps deludedly thinking they aren\\'t disturbing fellow theater-goers if they text instead of talk on their phones). And women, or at least those who give a thought to the usual state of the floors in movie houses, do indeed sit with their handbags in their laps in such venues. Was this a terrorist on a \"dry run\" practicing her part in a coordinated plan to detonate bombs or unleash biochemical agents in crowded spaces? Or was it a woman that had an afternoon to herself who thought to spend it watching a film she\\'d wanted to see? The woman\\'s Middle Eastern appearance has a significant impact on one\\'s assumptions. Had the woman not looked like she came from the Middle East or had she not been clad in a chador (full robe) or wearing a hijab (head scarf), her actions in the theater likely wouldn\\'t have been regarded as suspect. Although others trying to watch the film might have regarded her as yet another ill-mannered yahoo on a cell phone, she wouldn\\'t have been thought a potential terrorist practicing up for the big day. Perhaps, at most, she\\'d have been considered a potential bootlegger furtively recording a current film so it could be sold on pirated DVDs.  But because of the way she was dressed, the woman attracted suspicion. A similar scare was initiated in late-2001 when a man described as being of \"Middle Eastern descent\" was seen purchasing large amounts of candy from a Costco in New Jersey. Sizeable purchases of items from warehouse stores aren\\'t at all unusual, but the worst was immediately suspected because of the man\\'s appearance. What was suspected proved to be wrong, too: the man was merely buying large amounts of candy to resell at a profit. Last updated: 7 February 2008 Urban Legends Reference Pages   1995-2015 by snopes.com. This material may not be reproduced without permission. snopes and the snopes.com logo are registered service marks of snopes.com. Sources: Perez, Lorenzo. \\xa0 \"False Rumor Puts Triangle Muslims on Edge.\" The [Raleigh] News & Observer. 7 February 2008.'"
      ]
     },
     "execution_count": 8,
     "metadata": {},
     "output_type": "execute_result"
    }
   ],
   "source": [
    "content = divs[0].get_text(\" \", strip=True)\n",
    "# remove junk unicode characters\n",
    "content.replace(u'\\xa0', u' ') \n",
    "content.replace(u'\\xa9', u' ')"
   ]
  },
  {
   "cell_type": "code",
   "execution_count": 9,
   "metadata": {
    "collapsed": false
   },
   "outputs": [
    {
     "name": "stdout",
     "output_type": "stream",
     "text": [
      "Claim: A group of Muslim women clutching briefcases and text messaging during films were spotted making a terrorist attack \"dry run\" in a Raleigh, North Carolina theater. Status: False. Example: [Collected on the Internet, 2008] Dear Friends, I just came from dinner with a friend who personally experienced a very disturbing situation at North Hills Movie Theater here in Raleigh, NC this past Friday at the 4:30 matinee showing of \"Atonement\".  I have known this woman and her husband for almost 30 years this is a true story. She and her husband were sitting down front and after the previews, just before the movie started she realized that someone slipped in two seats over from them with an empty seat in between them.  She glanced over to look at the person who had just slipped in beside her.  I won't give you the description until later...as she glanced over for a second time, this Person pulled up a brief case, placed it in their lap,  and was holding onto it for dear life. This person never glanced over at my friend but kept their Eyes straight ahead, until they received the \"buzz\" of text message over Their cell phone. This person glanced a at the text message but didn't respond to the message.  This person then continued to receive text messages every few minutes.  How many people do you know that bring their brief cases to the movie, much less placing them in their laps during the movie and Clutching them?  And how many times do you see people get text messages in a movie that don't respond to them?  At least to say..\"I'm at a movie, leave me alone\". Oh by the way...this person that had the brief case was dressed as a Muslim woman.  Black cloth covered them from head to toe with only the eyes visible.  She could not be sure that this was a woman because only the eyes were showing. After about 1 hour of squirming in their seats my friend and her husband left the movie and tried to find a manager. Well, most of the people working there were about 15-16 years old and a 90 year old ticket taker and there was not a manager there at that time. None of them saw the urgency in the situation.  She told them about the brief case, text messaging, and how this person was dressed.  One of the workers said...Oh I saw THEM...there was a whole group of them.  They all went to different movies. DUH! Are any of you thinking what I am thinking?  They also asked about \"security\"....security doesn't come in until 7pm - 9pm. Do you think maybe this was a test?  The 911 bombers tested their plan 14 times before it was actually acted upon.  Or was it going to be the real thing that for some reason was stopped?  We may never know but I have been sufficiently thrown into high alert.  Do what you want with this information, but I for one will not be racing to the movie theater anytime soon. Think about this...no screening, no security, visibility greatly reduced (dark) and apparently most people are totally oblivious as to \"suspicious\" activity at movie theaters! Sorry to be the bearer of disturbing news, but I want to make the people I care about be more aware of their surroundings, perhaps we all need to Have a phone number for a Homeland Security contact in our cell phones! Origins: Because concern about the potential for additional terrorist attacks on U.S. soil lives on, tales like the one above fall upon believing ears. Acts that previously would not have drawn much comment or notice are now regarded as potentially life-threatening when carried out by folks of Middle Eastern appearance. The e-mailed account about suspicious activity at a daytime showing at the North Hills Movie Theater in Raleigh, North Carolina, of the film Atonement first reached the snopes.com inbox on 25 January 2008, which would seem to date the incident (described in the e-mail as having happened \"this past Friday\") to 18 January 2008. The message (which is clearly phrased as a second-hand account of an occurrence at which the writer was not present) has been looked into by the Raleigh Police Department. Although a woman dressed in Middle Eastern garb was present at the showing and was texting during the film, there was no coordinated movie-going group of such women in all the theaters. Also, the lone woman doing the texting was not holding a briefcase on her lap (it was her purse), nor was she found to have been engaged in any activity that posed a security threat: Raleigh Police Department employees were among those who received a version of the message on their personal e-mail accounts, and the department investigated the supposed incident. Police spokesman Jim Sughrue said investigators concluded the incident did not happen. \"It was determined in the end that there had been a single movie-goer, a female in Middle Eastern attire,\" Sughrue said. \"We're not faulting anybody for anything that happened. We ran it down, and we were more than happy to run it down and report that there was not a security threat.\" People do use cell phones during theater screenings of movies, and some do send and receive text messages throughout films (perhaps deludedly thinking they aren't disturbing fellow theater-goers if they text instead of talk on their phones). And women, or at least those who give a thought to the usual state of the floors in movie houses, do indeed sit with their handbags in their laps in such venues. Was this a terrorist on a \"dry run\" practicing her part in a coordinated plan to detonate bombs or unleash biochemical agents in crowded spaces? Or was it a woman that had an afternoon to herself who thought to spend it watching a film she'd wanted to see? The woman's Middle Eastern appearance has a significant impact on one's assumptions. Had the woman not looked like she came from the Middle East or had she not been clad in a chador (full robe) or wearing a hijab (head scarf), her actions in the theater likely wouldn't have been regarded as suspect. Although others trying to watch the film might have regarded her as yet another ill-mannered yahoo on a cell phone, she wouldn't have been thought a potential terrorist practicing up for the big day. Perhaps, at most, she'd have been considered a potential bootlegger furtively recording a current film so it could be sold on pirated DVDs.  But because of the way she was dressed, the woman attracted suspicion. A similar scare was initiated in late-2001 when a man described as being of \"Middle Eastern descent\" was seen purchasing large amounts of candy from a Costco in New Jersey. Sizeable purchases of items from warehouse stores aren't at all unusual, but the worst was immediately suspected because of the man's appearance. What was suspected proved to be wrong, too: the man was merely buying large amounts of candy to resell at a profit. Last updated: 7 February 2008 Urban Legends Reference Pages © 1995-2015 by snopes.com. This material may not be reproduced without permission. snopes and the snopes.com logo are registered service marks of snopes.com. Sources: Perez, Lorenzo.   \"False Rumor Puts Triangle Muslims on Edge.\" The [Raleigh] News & Observer. 7 February 2008.\n"
     ]
    }
   ],
   "source": [
    "print content"
   ]
  },
  {
   "cell_type": "code",
   "execution_count": 10,
   "metadata": {
    "collapsed": false
   },
   "outputs": [],
   "source": [
    "index_claim = content.find(\"Claim:\")\n",
    "index_status = content.find(\"Status:\")\n",
    "index_example = content.find(\"Example:\")\n",
    "index_origins = content.find(\"Origins:\")\n",
    "index_last_updated = content.find(\"Last updated:\")\n",
    "index_sources = content.find(\"Sources:\")\n",
    "#print index_claim\n",
    "#print index_status\n",
    "#print index_example\n",
    "#print index_origins\n",
    "#print index_last_updated\n",
    "#print index_sources"
   ]
  },
  {
   "cell_type": "code",
   "execution_count": 11,
   "metadata": {
    "collapsed": false
   },
   "outputs": [
    {
     "name": "stdout",
     "output_type": "stream",
     "text": [
      "-@@@begin_claim@@@A group of Muslim women clutching briefcases and text messaging during films were spotted making a terrorist attack \"dry run\" in a Raleigh, North Carolina theater.@@@end_claim@@@\n"
     ]
    }
   ],
   "source": [
    "claim = content[index_claim + len(\"Claim:\"):index_status].strip(' \\t\\n\\r')\n",
    "print \"-@@@begin_claim@@@\" + claim + \"@@@end_claim@@@\""
   ]
  },
  {
   "cell_type": "code",
   "execution_count": 12,
   "metadata": {
    "collapsed": false
   },
   "outputs": [
    {
     "name": "stdout",
     "output_type": "stream",
     "text": [
      " -@@@begin_status@@@False@@@end_status@@@\n"
     ]
    }
   ],
   "source": [
    "status = content[index_status + len(\"Status:\"):index_example].strip(' \\t\\n\\r.')\n",
    "print \" -@@@begin_status@@@\" + status + \"@@@end_status@@@\""
   ]
  },
  {
   "cell_type": "code",
   "execution_count": 13,
   "metadata": {
    "collapsed": false
   },
   "outputs": [
    {
     "name": "stdout",
     "output_type": "stream",
     "text": [
      " -@@@begin_example@@@[Collected on the Internet, 2008] Dear Friends, I just came from dinner with a friend who personally experienced a very disturbing situation at North Hills Movie Theater here in Raleigh, NC this past Friday at the 4:30 matinee showing of \"Atonement\".  I have known this woman and her husband for almost 30 years this is a true story. She and her husband were sitting down front and after the previews, just before the movie started she realized that someone slipped in two seats over from them with an empty seat in between them.  She glanced over to look at the person who had just slipped in beside her.  I won't give you the description until later...as she glanced over for a second time, this Person pulled up a brief case, placed it in their lap,  and was holding onto it for dear life. This person never glanced over at my friend but kept their Eyes straight ahead, until they received the \"buzz\" of text message over Their cell phone. This person glanced a at the text message but didn't respond to the message.  This person then continued to receive text messages every few minutes.  How many people do you know that bring their brief cases to the movie, much less placing them in their laps during the movie and Clutching them?  And how many times do you see people get text messages in a movie that don't respond to them?  At least to say..\"I'm at a movie, leave me alone\". Oh by the way...this person that had the brief case was dressed as a Muslim woman.  Black cloth covered them from head to toe with only the eyes visible.  She could not be sure that this was a woman because only the eyes were showing. After about 1 hour of squirming in their seats my friend and her husband left the movie and tried to find a manager. Well, most of the people working there were about 15-16 years old and a 90 year old ticket taker and there was not a manager there at that time. None of them saw the urgency in the situation.  She told them about the brief case, text messaging, and how this person was dressed.  One of the workers said...Oh I saw THEM...there was a whole group of them.  They all went to different movies. DUH! Are any of you thinking what I am thinking?  They also asked about \"security\"....security doesn't come in until 7pm - 9pm. Do you think maybe this was a test?  The 911 bombers tested their plan 14 times before it was actually acted upon.  Or was it going to be the real thing that for some reason was stopped?  We may never know but I have been sufficiently thrown into high alert.  Do what you want with this information, but I for one will not be racing to the movie theater anytime soon. Think about this...no screening, no security, visibility greatly reduced (dark) and apparently most people are totally oblivious as to \"suspicious\" activity at movie theaters! Sorry to be the bearer of disturbing news, but I want to make the people I care about be more aware of their surroundings, perhaps we all need to Have a phone number for a Homeland Security contact in our cell phones!@@@end_example@@@\n"
     ]
    }
   ],
   "source": [
    "example = content[index_example + len(\"Example:\"):index_origins].strip(' \\t\\n\\r')\n",
    "print \" -@@@begin_example@@@\" + example + \"@@@end_example@@@\""
   ]
  },
  {
   "cell_type": "code",
   "execution_count": 14,
   "metadata": {
    "collapsed": false
   },
   "outputs": [
    {
     "name": "stdout",
     "output_type": "stream",
     "text": [
      " -@@@begin_origins@@@Because concern about the potential for additional terrorist attacks on U.S. soil lives on, tales like the one above fall upon believing ears. Acts that previously would not have drawn much comment or notice are now regarded as potentially life-threatening when carried out by folks of Middle Eastern appearance. The e-mailed account about suspicious activity at a daytime showing at the North Hills Movie Theater in Raleigh, North Carolina, of the film Atonement first reached the snopes.com inbox on 25 January 2008, which would seem to date the incident (described in the e-mail as having happened \"this past Friday\") to 18 January 2008. The message (which is clearly phrased as a second-hand account of an occurrence at which the writer was not present) has been looked into by the Raleigh Police Department. Although a woman dressed in Middle Eastern garb was present at the showing and was texting during the film, there was no coordinated movie-going group of such women in all the theaters. Also, the lone woman doing the texting was not holding a briefcase on her lap (it was her purse), nor was she found to have been engaged in any activity that posed a security threat: Raleigh Police Department employees were among those who received a version of the message on their personal e-mail accounts, and the department investigated the supposed incident. Police spokesman Jim Sughrue said investigators concluded the incident did not happen. \"It was determined in the end that there had been a single movie-goer, a female in Middle Eastern attire,\" Sughrue said. \"We're not faulting anybody for anything that happened. We ran it down, and we were more than happy to run it down and report that there was not a security threat.\" People do use cell phones during theater screenings of movies, and some do send and receive text messages throughout films (perhaps deludedly thinking they aren't disturbing fellow theater-goers if they text instead of talk on their phones). And women, or at least those who give a thought to the usual state of the floors in movie houses, do indeed sit with their handbags in their laps in such venues. Was this a terrorist on a \"dry run\" practicing her part in a coordinated plan to detonate bombs or unleash biochemical agents in crowded spaces? Or was it a woman that had an afternoon to herself who thought to spend it watching a film she'd wanted to see? The woman's Middle Eastern appearance has a significant impact on one's assumptions. Had the woman not looked like she came from the Middle East or had she not been clad in a chador (full robe) or wearing a hijab (head scarf), her actions in the theater likely wouldn't have been regarded as suspect. Although others trying to watch the film might have regarded her as yet another ill-mannered yahoo on a cell phone, she wouldn't have been thought a potential terrorist practicing up for the big day. Perhaps, at most, she'd have been considered a potential bootlegger furtively recording a current film so it could be sold on pirated DVDs.  But because of the way she was dressed, the woman attracted suspicion. A similar scare was initiated in late-2001 when a man described as being of \"Middle Eastern descent\" was seen purchasing large amounts of candy from a Costco in New Jersey. Sizeable purchases of items from warehouse stores aren't at all unusual, but the worst was immediately suspected because of the man's appearance. What was suspected proved to be wrong, too: the man was merely buying large amounts of candy to resell at a profit.@@@end_origins@@@\n"
     ]
    }
   ],
   "source": [
    "origins = content[index_origins + len(\"Origins:\"):index_last_updated].strip(' \\t\\n\\r')\n",
    "print \" -@@@begin_origins@@@\" + origins + \"@@@end_origins@@@\""
   ]
  },
  {
   "cell_type": "code",
   "execution_count": 15,
   "metadata": {
    "collapsed": false
   },
   "outputs": [
    {
     "name": "stdout",
     "output_type": "stream",
     "text": [
      " -@@@begin_sources@@@Perez, Lorenzo.   \"False Rumor Puts Triangle Muslims on Edge.\" The [Raleigh] News & Observer. 7 February 2008.@@@end_sources@@@\n"
     ]
    }
   ],
   "source": [
    "sources = content[index_sources + len(\"Sources:\")::].strip(' \\t\\n\\r')\n",
    "pat = re.compile(r'\\s+')\n",
    "pat.sub(' ', sources)\n",
    "print \" -@@@begin_sources@@@\" + sources + \"@@@end_sources@@@\""
   ]
  },
  {
   "cell_type": "code",
   "execution_count": 16,
   "metadata": {
    "collapsed": false
   },
   "outputs": [
    {
     "name": "stdout",
     "output_type": "stream",
     "text": [
      "Perez, Lorenzo. \"False Rumor Puts Triangle Muslims on Edge.\" The [Raleigh] News & Observer. 7 February 2008.\n"
     ]
    }
   ],
   "source": [
    "# Some Regex Testing Code, not part of the project\n",
    "s = \"Perez, Lorenzo.   \\\"False Rumor Puts Triangle Muslims on Edge.\\\" The [Raleigh] News &  Observer. 7  February 2008.\".strip(' \\t\\n\\r')\n",
    "pat = re.compile('\\s+')\n",
    "print pat.sub(' ', s)"
   ]
  },
  {
   "cell_type": "markdown",
   "metadata": {},
   "source": [
    "### SubTask 2 - Indexing and Word Count of all the messages in the corpus"
   ]
  },
  {
   "cell_type": "code",
   "execution_count": null,
   "metadata": {
    "collapsed": true
   },
   "outputs": [],
   "source": []
  },
  {
   "cell_type": "code",
   "execution_count": null,
   "metadata": {
    "collapsed": true
   },
   "outputs": [],
   "source": []
  },
  {
   "cell_type": "code",
   "execution_count": null,
   "metadata": {
    "collapsed": true
   },
   "outputs": [],
   "source": []
  },
  {
   "cell_type": "code",
   "execution_count": null,
   "metadata": {
    "collapsed": true
   },
   "outputs": [],
   "source": []
  }
 ],
 "metadata": {
  "kernelspec": {
   "display_name": "Python 2",
   "language": "python",
   "name": "python2"
  },
  "language_info": {
   "codemirror_mode": {
    "name": "ipython",
    "version": 2
   },
   "file_extension": ".py",
   "mimetype": "text/x-python",
   "name": "python",
   "nbconvert_exporter": "python",
   "pygments_lexer": "ipython2",
   "version": "2.7.10"
  }
 },
 "nbformat": 4,
 "nbformat_minor": 0
}
